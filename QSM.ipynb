{
 "cells": [
  {
   "cell_type": "code",
   "execution_count": 19,
   "metadata": {},
   "outputs": [],
   "source": [
    "from qutip import *\n",
    "import numpy as np\n",
    "import random\n",
    "import matplotlib.pyplot as plt\n",
    "from ipywidgets import interact, widgets\n",
    "import matplotlib.transforms as transforms\n",
    "from matplotlib import animation\n",
    "from mpl_toolkits.mplot3d import axes3d\n",
    "import matplotlib.pyplot as plt\n",
    "import matplotlib.animation as animation\n",
    "import matplotlib\n",
    "\n",
    "\n",
    "alpha = 3                              # Alpha\n",
    "N = 50                                 # Size of the Hilbert space\n",
    "steps = 100                            # Amount of time steps in the Linblad equation\n",
    "end_time = np.pi                       # Screen position\n",
    "t = np.linspace(0.0, end_time, steps)  # Time steps\n",
    "\n",
    "a = destroy(N)                         # Annihilation operator\n",
    "x = a + a.dag()                        # Position operator\n",
    "H = (a.dag()*a + 0.5)                  # Hamiltonian\n",
    "\n",
    "cat = (coherent(N, alpha*1j) + coherent(N, alpha*-1j)).unit()"
   ]
  },
  {
   "cell_type": "code",
   "execution_count": 20,
   "metadata": {},
   "outputs": [
    {
     "data": {
      "application/vnd.jupyter.widget-view+json": {
       "model_id": "01b078562a6d442a89e61e7d2a7a6ebc",
       "version_major": 2,
       "version_minor": 0
      },
      "text/plain": [
       "interactive(children=(IntSlider(value=4, description='i', max=5), IntSlider(value=13, description='slits', max…"
      ]
     },
     "metadata": {},
     "output_type": "display_data"
    }
   ],
   "source": [
    "def update(i, slits):\n",
    "    # Initial state\n",
    "    sum = 0\n",
    "    for index in range(slits):\n",
    "        sum += (coherent(N, i*index*1j) + coherent(N, i*index*-1j))\n",
    "    cat_alpha = sum.unit()  \n",
    "    \n",
    "    # Propagate state to get state at screen\n",
    "    result = mesolve(H, cat_alpha, t, qeye(N))\n",
    "    rho = result.states[len(result.states) - 1]\n",
    "\n",
    "    plot_wigner(rho)\n",
    "\n",
    "interact(update, i=widgets.IntSlider(min = 0, max = 5, step = 1, value = 4), slits=widgets.IntSlider(min = 1 , max = 20, step = 2, value = 13));"
   ]
  },
  {
   "cell_type": "code",
   "execution_count": 11,
   "metadata": {},
   "outputs": [
    {
     "ename": "NameError",
     "evalue": "name 'collapse' is not defined",
     "output_type": "error",
     "traceback": [
      "\u001b[0;31m---------------------------------------------------------------------------\u001b[0m",
      "\u001b[0;31mNameError\u001b[0m                                 Traceback (most recent call last)",
      "\u001b[0;32m<ipython-input-11-70200c239692>\u001b[0m in \u001b[0;36m<module>\u001b[0;34m\u001b[0m\n\u001b[1;32m     23\u001b[0m \u001b[0;31m# Transform to the basis of eigenstates of the x operator and collapse\u001b[0m\u001b[0;34m\u001b[0m\u001b[0;34m\u001b[0m\u001b[0;34m\u001b[0m\u001b[0m\n\u001b[1;32m     24\u001b[0m \u001b[0meigvals\u001b[0m\u001b[0;34m,\u001b[0m \u001b[0meigstates\u001b[0m \u001b[0;34m=\u001b[0m \u001b[0mx\u001b[0m\u001b[0;34m.\u001b[0m\u001b[0meigenstates\u001b[0m\u001b[0;34m(\u001b[0m\u001b[0;34m)\u001b[0m\u001b[0;34m\u001b[0m\u001b[0;34m\u001b[0m\u001b[0m\n\u001b[0;32m---> 25\u001b[0;31m \u001b[0marray\u001b[0m \u001b[0;34m=\u001b[0m \u001b[0mcollapse\u001b[0m\u001b[0;34m(\u001b[0m\u001b[0mrho\u001b[0m\u001b[0;34m,\u001b[0m \u001b[0mx\u001b[0m\u001b[0;34m,\u001b[0m \u001b[0mcollapses\u001b[0m\u001b[0;34m,\u001b[0m \u001b[0mzoom\u001b[0m\u001b[0;34m=\u001b[0m\u001b[0mzoom\u001b[0m\u001b[0;34m)\u001b[0m\u001b[0;34m\u001b[0m\u001b[0;34m\u001b[0m\u001b[0m\n\u001b[0m\u001b[1;32m     26\u001b[0m \u001b[0;34m\u001b[0m\u001b[0m\n\u001b[1;32m     27\u001b[0m \u001b[0;31m# Plot  the result\u001b[0m\u001b[0;34m\u001b[0m\u001b[0;34m\u001b[0m\u001b[0;34m\u001b[0m\u001b[0m\n",
      "\u001b[0;31mNameError\u001b[0m: name 'collapse' is not defined"
     ]
    }
   ],
   "source": [
    "# Simulate a number of random collapses at the screen\n",
    "collapses = 10000  # Amount of collapses\n",
    "big_N = 1000       # Size of the larger Hilbert space\n",
    "zoom = 4           # x-axis bounds\n",
    "\n",
    "# def collapse(rho, x, no_collapses, zoom):\n",
    "# Collapse function\n",
    "# To simulate random collapses of the wavefunction using certain operators, we created the collapse function. This function \n",
    "# transforms the state  |ψ⟩  to the basis of eigenstates of the operator we measure with;  |ϕ1⟩,|ϕ2⟩,...|ϕN⟩ :\n",
    "# |ψ⟩=∑iNci|ϕi⟩\n",
    " \n",
    "# where the coefficients  ci=⟨ϕi|ψ⟩ . This transformation will give the vector with those coefficients, which can then be used to create a probability distribution. The probability of collapsing  |ψ⟩  to  |ϕi⟩  and thus measuring eigenvalue  λi  is  |ci|2 . However, the LME solver returns a density matrix instead of a state vector. To transform the density matrix to the basis of eigenstates and extract the needed  |ci|2 's we use the following formula:\n",
    "# |ci|2=Tr(|ϕ⟩i|ϕ⟩†iρ)\n",
    " \n",
    "# where  Tr()  is the trace operation and  ρ  is the density matrix.\n",
    "    \n",
    "result_me = mesolve(H, cat, t, qeye(N))\n",
    "rho = result_me.states[len(result_me.states) - 1]   # The last state is the state at the screen\n",
    "\n",
    "# To improve the resolution of the plot we enlarge the hilbert space\n",
    "# extrapolated_rho, extrapolated_x = extrapolate_hilbert_space(rho, big_N)\n",
    "\n",
    "# Transform to the basis of eigenstates of the x operator and collapse\n",
    "eigvals, eigstates = x.eigenstates()\n",
    "array = collapse(rho, x, collapses, zoom=zoom)\n",
    "\n",
    "# Plot  the result\n",
    "plt.figure(figsize=(6,3))\n",
    "plt.xlim(-zoom, zoom)\n",
    "plt.hist(array, bins=eigvals)\n",
    "plt.ylabel(r\"Counts\")\n",
    "plt.xlabel('eigenvalues operator')\n",
    "plt.show()"
   ]
  },
  {
   "cell_type": "code",
   "execution_count": null,
   "metadata": {},
   "outputs": [],
   "source": [
    "nb = True\n",
    "%matplotlib inline"
   ]
  },
  {
   "cell_type": "code",
   "execution_count": null,
   "metadata": {},
   "outputs": [],
   "source": [
    "\n",
    "# Set number of frames and frames per second\n",
    "Nfrm = 480\n",
    "fps = 60\n",
    "\n",
    "# Coordinates for wave sources\n",
    "source1 = [-12, 12]\n",
    "source2 = [12, 12]\n",
    "source3 = [-24, 12]\n",
    "source4 = [24, 12]\n",
    "##ADD MORE SLITS"
   ]
  },
  {
   "cell_type": "code",
   "execution_count": null,
   "metadata": {},
   "outputs": [],
   "source": [
    "def sine(X, Y, phi, source=source1):\n",
    "    # Function is e^(-sqrt(X^2 + Y^2)) * sin(sqrt(X^2 + Y^2))\n",
    "    # (with some coefficients here and there to make it look pretty)\n",
    "    return .75 * np.exp(-1 * np.sqrt((X + source[0])**2 + (Y + source[1])**2) / 30) * np.sin((np.sqrt((X + source[0])**2 + (Y + source[1])**2) / 3) - phi)\n",
    "    \n",
    "\n",
    "def generate(X, Y, phi):\n",
    "    # Generates source waves R1 and R2 with their respective offsets\n",
    "    R1 = sine(X, Y, phi, source1)\n",
    "    R2 = sine(X, Y, phi, source2)\n",
    "    R3 = sine(X, Y, phi, source3)\n",
    "    R4 = sine(X, Y, phi, source4)\n",
    "    # Combine them into a single wave and reduce the scale of the waves\n",
    "    R = R1 + R2 + R3 + R4\n",
    "    return R"
   ]
  },
  {
   "cell_type": "code",
   "execution_count": null,
   "metadata": {},
   "outputs": [],
   "source": [
    "\n",
    "# Create the plot\n",
    "fig = plt.figure(figsize=(8,6))\n",
    "ax = fig.add_subplot(111, projection='3d')\n",
    "\n",
    "# Plot styling\n",
    "plt.title(\"Wave interference\")\n",
    "plt.style.use('dark_background')\n",
    "\n",
    "# Make the X, Y meshgrid.\n",
    "xs = np.linspace(-60, 60, 125)\n",
    "ys = np.linspace(-60, 60, 125)\n",
    "X, Y = np.meshgrid(xs, ys)\n",
    "\n",
    "# Set the z axis limits so they aren't recalculated each frame.\n",
    "ax.set_zlim(-2, 2)\n",
    "\n",
    "# Draw wave sources as vertical line segments\n",
    "source1z = np.array([-2, 2])\n",
    "source1x = np.array([-source1[0], -source1[0]])\n",
    "source1y = np.array([-source1[1], -source1[1]])\n",
    "ax.plot3D(source1x, source1y, source1z, 'red', alpha=.5)\n",
    "\n",
    "source2z = np.array([-2, 2])\n",
    "source2x = np.array([-source2[0], -source2[0]])\n",
    "source2y = np.array([-source2[1], -source2[1]])\n",
    "ax.plot3D(source2x, source2y, source2z, 'red', alpha=.5)\n",
    "\n",
    "\n",
    "source3z = np.array([-2, 2])\n",
    "source3x = np.array([-source3[0], -source3[0]])\n",
    "source3y = np.array([-source3[1], -source3[1]])\n",
    "ax.plot3D(source3x, source3y, source3z, 'red', alpha=.5)\n",
    "\n",
    "source4z = np.array([-2, 2])\n",
    "source4x = np.array([-source4[0], -source4[0]])\n",
    "source4y = np.array([-source4[1], -source4[1]])\n",
    "ax.plot3D(source4x, source4y, source4z, 'red', alpha=.5, label=\"Wave Source\")\n",
    "\n",
    "ax.legend()\n",
    "\n",
    "##ADD MORE SLITS\n",
    "\n",
    "# Remove ticklabels\n",
    "ax.set_yticklabels([])\n",
    "ax.set_xticklabels([])\n",
    "ax.set_zticklabels([])\n",
    "\n",
    "\n",
    "\n",
    "# Begin plotting.\n",
    "surface = None\n",
    "Z = generate(X, Y, 0)\n",
    "\n",
    "def update(idx):\n",
    "    phi=phis[idx]\n",
    "    \n",
    "    global surface\n",
    "    # If a line collection is already remove it before drawing.\n",
    "    if surface:\n",
    "        # ax.collections.remove(wframe)\n",
    "        ax.collections.remove(surface)\n",
    "\n",
    "    # Plot the new surface and pause briefly before continuing.\n",
    "    Z = generate(X, Y, phi * .2)\n",
    "    surface = ax.plot_surface(X, Y, Z, rstride=1, cstride=1, cmap='Blues', alpha=.5, edgecolor='none')\n",
    "    \n",
    "  \n",
    "    \n",
    "    \n",
    "phis = np.linspace(0, 180. / np.pi, Nfrm)\n",
    "ani = animation.FuncAnimation(fig, update, Nfrm, interval=2000/fps)"
   ]
  },
  {
   "cell_type": "code",
   "execution_count": null,
   "metadata": {},
   "outputs": [],
   "source": []
  }
 ],
 "metadata": {
  "kernelspec": {
   "display_name": "Python 3",
   "language": "python",
   "name": "python3"
  },
  "language_info": {
   "codemirror_mode": {
    "name": "ipython",
    "version": 3
   },
   "file_extension": ".py",
   "mimetype": "text/x-python",
   "name": "python",
   "nbconvert_exporter": "python",
   "pygments_lexer": "ipython3",
   "version": "3.7.6"
  }
 },
 "nbformat": 4,
 "nbformat_minor": 2
}
