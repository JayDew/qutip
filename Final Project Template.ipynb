{
 "cells": [
  {
   "cell_type": "markdown",
   "metadata": {
    "hide_input": false,
    "pycharm": {
     "name": "#%% md\n"
    }
   },
   "source": [
    "# Final Project TN3155: Destroying interference by measuring 'which path' information in Double Slit Experiment\n",
    "## Introduction\n",
    "\n",
    "\n",
    "First introduced in 1801 by Thomas Young, the infamous double-slit experiment displays the peculiar characteristics of quantum mechanics: the fact that quantum entities behave both like waves and particles.\n",
    "\n",
    "Finding the exact path of a photon passing though the double slit is impossible, as any action taken in order to determine  which of the two slits a photon passed through (any measurement apparatus) will prevent the photon from interferencing with itself. The interference fringes characteristic of the Young experiment will therefore not be seen. This is commonly known as the 'which way' problem.\n",
    "\n",
    "In this project we aim to simulate the Young's interference experiment, where we will be looking at the effects of measuring the photons at the slit. What happens if you measure the position? What happens if someone else measures the position and doesn't tell you? What happens if you just measure  x^2 ? To achieve this we will be make extensive use of the Lindblad Master equation in QuTiP.\n",
    "\n",
    "--> Include 1 picture if you want that expresses the thing you are simulating / what you want to achieve.\n",
    "\n",
    "## Description of the physical problem being simulated\n",
    "\n",
    "3-4 paragraphs describing the physical problem that you are simulating with your code. What is the starting point? Do you make some approximations to the Hamiltonian before simulating it? Make some predictions of what you might expect based on your physical intuition (ie. without any derivations / mathematics / code). Try to write this bit in particular from the perspective of what you knew *before* you started the project. \n",
    "\n",
    "Include figures: screenshots from papers, textbooks, websites, but making sure to cite your source. \n",
    "\n",
    "## Aim and scope of the project\n",
    "\n",
    "A short, concise list of the questions you will answer using the simulations you will perform.\n",
    "\n",
    "## Techniques and approach\n",
    "\n",
    "Outline, in subsections if needed (but one section is fine if you don't!), important details of how you implemented the code. \n",
    "\n",
    "\n",
    "\n",
    "\n",
    "You do not have to document in detail each simulation you performed. And also not even the details of what you did for each of the plots in the results section, since the code you will submit will do this for you.\n",
    "\n",
    "Instead: think about the important concepts / techniques you used and illustrate how each of these works with a simple illustration of how the code works, what it does, and how to use it. \n",
    "\n",
    "##  Results\n",
    "\n",
    "Pick maximum 3 \"main results\" from what you have done. One result is also fine if your project was focussed on one thing. Formulate them in the form of a \"message\". What is the \"message\" you want your reader to \"take home\"? \n",
    "\n",
    "For each of these \"message\" make a subsection. Write code that produces figures that illustrate your message as clearly as possible. Each subsection should includee: \n",
    "\n",
    "* A paragraph describing what the research question the code is trying to answer and, briefly, how it does it\n",
    "* The code that produces a figure. \n",
    "  * If the code is very long, you can \"hide\" the cell using the \"toggle cell input display\" notebook extension.\n",
    "  * Or you can write your code in a function, like make_results_1(), separate .py  file and then  call your  function in the code sell\n",
    "* A paragraph describing what the figure shows (\"what you see\")\n",
    "* A paragraph explaining how to interpret what the figure shows\n",
    "\n",
    "Each subsection can have multiple plots if you need more than one plot to explain your point. However, I would try to avoid more than 3 plots per \"subsection\". In getting your message across effectively, \"less is more\". It is better to have one very effective and clear plot, than a sequence of many plots that will confuse your reader. \n",
    "\n",
    "## Summary and Outlook\n",
    "\n",
    "In a short paragraph or two, summarize again your \"take home messages\". \n",
    "\n",
    "In an additional paragraph, describe what you think would be the next steps: where can we go from here? What would you do if you had more time? Where can one apply the things you have learned?"
   ]
  }
 ],
 "metadata": {
  "jupytext": {
   "cell_metadata_json": true,
   "formats": "ipynb,md"
  },
  "kernelspec": {
   "display_name": "Python 3",
   "language": "python",
   "name": "python3"
  },
  "language_info": {
   "codemirror_mode": {
    "name": "ipython",
    "version": 3
   },
   "file_extension": ".py",
   "mimetype": "text/x-python",
   "name": "python",
   "nbconvert_exporter": "python",
   "pygments_lexer": "ipython3",
   "version": "3.7.5"
  },
  "toc": {
   "base_numbering": 1,
   "nav_menu": {},
   "number_sections": false,
   "sideBar": true,
   "skip_h1_title": false,
   "title_cell": "Table of Contents",
   "title_sidebar": "Contents",
   "toc_cell": false,
   "toc_position": {},
   "toc_section_display": true,
   "toc_window_display": false
  }
 },
 "nbformat": 4,
 "nbformat_minor": 2
}